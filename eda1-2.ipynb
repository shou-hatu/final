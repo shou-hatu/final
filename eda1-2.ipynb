{
 "cells": [
  {
   "cell_type": "markdown",
   "metadata": {},
   "source": [
    "<p><h2>特徴量の説明</h2>\n",
    "＊黄色い部分が目的変数<br>\n",
    "<h3>シリンダー</h3>\n",
    "　シリンダーはエンジンの重要な部品であり、室内で燃料が燃焼して動力を生成する。 シリンダーはピストンと、上部にある XNUMX つのバルブ (XNUMX は吸気用、もう XNUMX は排気用) で構成されている。 ピストンが上下し、その往復運動によって発生する力が車両を駆動する。<br>\n",
    "　気筒数が増えると高回転時の出力が上がり、最高速度が高くなる。反面、低速での加速性能は悪くなり、燃費効率も落ちる。<br>\n",
    "4 気筒エンジンは通常、6気筒または 8気筒エンジンよりも出力が低くなる。<br><br>\n",
    "<h3>燃費</h3>\n",
    "　燃費測定は実際にクルマを走らせるわけではなく、試験場のシャシダイナモメータ（測定器のローラー）にクルマを載せ、車両重量ごとに負荷荷重を変化させた上で、その場でタイヤを回転させ、一定のパターンで、燃費を測定している(モード燃費)。\n",
    "\n",
    "<h3>起源</h3>\n",
    "1=アメリカ, 2=ヨーロッパ, 3=日本\n",
    "<h3>排気量</h3>\n",
    "　実質的に燃費絵の影響が最も大きいと考えられる。\n",
    "　エンジンの総排気量は「シリンダー内径面積×ピストン行程×気筒数」の計算で求められる。<br><br>\n",
    "<h3>馬力</h3>\n",
    "　馬力とはエンジンが発揮できる出力の単位で、1馬力は重量75kgの物体を1秒間に1m持ち上げる力に相当する。<br>\n",
    "　排気量が大きいほどより大きな軸トルクを発揮できるため、より優れた加速力や登坂力を発揮する。排気量が少ないと少量の燃料で移動できるため環境に優しく、燃費性能に優れる。<br>\n",
    "　走行距離で見たときには低排気量の方が優位に立つのかも。<br><br>\n",
    "<h3>加速度</h3>\n",
    "　シリンダーの気筒数が多く、排気量が多い車ほど加速度性能は上がる。<br>\n",
    "　加減速が多い運転をすると燃費が悪くなる。同じ程度の加減速の場合、気筒数が大きい車の方が燃費が悪くなると考えられる。<br><br>\n",
    "<h3>重量</h3>\n",
    "　F=maより重さが増えると、発進にも大きな加速が必要になり、より大きな力＝大きなパワーが必要になる。したがって重量の大きい車はパワーを出すのにより多くの燃料が必要なことから、結果的に走行燃費が悪いということにつながる。大きな車には加速度性能が良い気筒数が多いシリンダーを持つエンジンが適している。<br>\n",
    "\n",
    "\n",
    "\n",
    "\n",
    "</p>\n",
    "\n",
    "\n"
   ]
  },
  {
   "cell_type": "code",
   "execution_count": 1,
   "metadata": {},
   "outputs": [],
   "source": [
    "#ライブラリのインポート\n",
    "import numpy as np\n",
    "import pandas as pd\n",
    "import matplotlib.pyplot as plt\n",
    "import seaborn as sns\n"
   ]
  },
  {
   "cell_type": "code",
   "execution_count": 2,
   "metadata": {},
   "outputs": [
    {
     "ename": "FileNotFoundError",
     "evalue": "[Errno 2] No such file or directory: '../走行距離予測データ/train.tsv'",
     "output_type": "error",
     "traceback": [
      "\u001b[1;31m---------------------------------------------------------------------------\u001b[0m",
      "\u001b[1;31mFileNotFoundError\u001b[0m                         Traceback (most recent call last)",
      "Cell \u001b[1;32mIn[2], line 1\u001b[0m\n\u001b[1;32m----> 1\u001b[0m df_train \u001b[38;5;241m=\u001b[39m \u001b[43mpd\u001b[49m\u001b[38;5;241;43m.\u001b[39;49m\u001b[43mread_csv\u001b[49m\u001b[43m(\u001b[49m\u001b[38;5;124;43m'\u001b[39;49m\u001b[38;5;124;43m../走行距離予測データ/train.tsv\u001b[39;49m\u001b[38;5;124;43m'\u001b[39;49m\u001b[43m \u001b[49m\u001b[43m,\u001b[49m\u001b[43m \u001b[49m\u001b[43msep\u001b[49m\u001b[43m \u001b[49m\u001b[38;5;241;43m=\u001b[39;49m\u001b[43m \u001b[49m\u001b[38;5;124;43m'\u001b[39;49m\u001b[38;5;130;43;01m\\t\u001b[39;49;00m\u001b[38;5;124;43m'\u001b[39;49m\u001b[43m)\u001b[49m\n\u001b[0;32m      2\u001b[0m \u001b[38;5;66;03m#カラム名を日本語に変更\u001b[39;00m\n\u001b[0;32m      3\u001b[0m \u001b[38;5;66;03m#df_train = df_train.rename(columns = {'mpg':'燃費' , 'cylinders':'シリンダー' , 'displacement':'排気量' , 'horsepower':'馬力' , 'weight':'重量' , 'acceleration':'加速度' , 'model year':'製造年代' , 'origin':'原産国' , 'car name':'車種'})\u001b[39;00m\n\u001b[0;32m      4\u001b[0m df_train[\u001b[38;5;124m'\u001b[39m\u001b[38;5;124mhorsepower\u001b[39m\u001b[38;5;124m'\u001b[39m] \u001b[38;5;241m=\u001b[39m df_train[\u001b[38;5;124m'\u001b[39m\u001b[38;5;124mhorsepower\u001b[39m\u001b[38;5;124m'\u001b[39m]\u001b[38;5;241m.\u001b[39mreplace({\u001b[38;5;124m'\u001b[39m\u001b[38;5;124m?\u001b[39m\u001b[38;5;124m'\u001b[39m:np\u001b[38;5;241m.\u001b[39mnan})\u001b[38;5;241m.\u001b[39mastype(\u001b[38;5;28mfloat\u001b[39m)\n",
      "File \u001b[1;32mc:\\Users\\shouh\\AppData\\Local\\Programs\\Python\\Python312\\Lib\\site-packages\\pandas\\io\\parsers\\readers.py:948\u001b[0m, in \u001b[0;36mread_csv\u001b[1;34m(filepath_or_buffer, sep, delimiter, header, names, index_col, usecols, dtype, engine, converters, true_values, false_values, skipinitialspace, skiprows, skipfooter, nrows, na_values, keep_default_na, na_filter, verbose, skip_blank_lines, parse_dates, infer_datetime_format, keep_date_col, date_parser, date_format, dayfirst, cache_dates, iterator, chunksize, compression, thousands, decimal, lineterminator, quotechar, quoting, doublequote, escapechar, comment, encoding, encoding_errors, dialect, on_bad_lines, delim_whitespace, low_memory, memory_map, float_precision, storage_options, dtype_backend)\u001b[0m\n\u001b[0;32m    935\u001b[0m kwds_defaults \u001b[38;5;241m=\u001b[39m _refine_defaults_read(\n\u001b[0;32m    936\u001b[0m     dialect,\n\u001b[0;32m    937\u001b[0m     delimiter,\n\u001b[1;32m   (...)\u001b[0m\n\u001b[0;32m    944\u001b[0m     dtype_backend\u001b[38;5;241m=\u001b[39mdtype_backend,\n\u001b[0;32m    945\u001b[0m )\n\u001b[0;32m    946\u001b[0m kwds\u001b[38;5;241m.\u001b[39mupdate(kwds_defaults)\n\u001b[1;32m--> 948\u001b[0m \u001b[38;5;28;01mreturn\u001b[39;00m \u001b[43m_read\u001b[49m\u001b[43m(\u001b[49m\u001b[43mfilepath_or_buffer\u001b[49m\u001b[43m,\u001b[49m\u001b[43m \u001b[49m\u001b[43mkwds\u001b[49m\u001b[43m)\u001b[49m\n",
      "File \u001b[1;32mc:\\Users\\shouh\\AppData\\Local\\Programs\\Python\\Python312\\Lib\\site-packages\\pandas\\io\\parsers\\readers.py:611\u001b[0m, in \u001b[0;36m_read\u001b[1;34m(filepath_or_buffer, kwds)\u001b[0m\n\u001b[0;32m    608\u001b[0m _validate_names(kwds\u001b[38;5;241m.\u001b[39mget(\u001b[38;5;124m\"\u001b[39m\u001b[38;5;124mnames\u001b[39m\u001b[38;5;124m\"\u001b[39m, \u001b[38;5;28;01mNone\u001b[39;00m))\n\u001b[0;32m    610\u001b[0m \u001b[38;5;66;03m# Create the parser.\u001b[39;00m\n\u001b[1;32m--> 611\u001b[0m parser \u001b[38;5;241m=\u001b[39m \u001b[43mTextFileReader\u001b[49m\u001b[43m(\u001b[49m\u001b[43mfilepath_or_buffer\u001b[49m\u001b[43m,\u001b[49m\u001b[43m \u001b[49m\u001b[38;5;241;43m*\u001b[39;49m\u001b[38;5;241;43m*\u001b[39;49m\u001b[43mkwds\u001b[49m\u001b[43m)\u001b[49m\n\u001b[0;32m    613\u001b[0m \u001b[38;5;28;01mif\u001b[39;00m chunksize \u001b[38;5;129;01mor\u001b[39;00m iterator:\n\u001b[0;32m    614\u001b[0m     \u001b[38;5;28;01mreturn\u001b[39;00m parser\n",
      "File \u001b[1;32mc:\\Users\\shouh\\AppData\\Local\\Programs\\Python\\Python312\\Lib\\site-packages\\pandas\\io\\parsers\\readers.py:1448\u001b[0m, in \u001b[0;36mTextFileReader.__init__\u001b[1;34m(self, f, engine, **kwds)\u001b[0m\n\u001b[0;32m   1445\u001b[0m     \u001b[38;5;28mself\u001b[39m\u001b[38;5;241m.\u001b[39moptions[\u001b[38;5;124m\"\u001b[39m\u001b[38;5;124mhas_index_names\u001b[39m\u001b[38;5;124m\"\u001b[39m] \u001b[38;5;241m=\u001b[39m kwds[\u001b[38;5;124m\"\u001b[39m\u001b[38;5;124mhas_index_names\u001b[39m\u001b[38;5;124m\"\u001b[39m]\n\u001b[0;32m   1447\u001b[0m \u001b[38;5;28mself\u001b[39m\u001b[38;5;241m.\u001b[39mhandles: IOHandles \u001b[38;5;241m|\u001b[39m \u001b[38;5;28;01mNone\u001b[39;00m \u001b[38;5;241m=\u001b[39m \u001b[38;5;28;01mNone\u001b[39;00m\n\u001b[1;32m-> 1448\u001b[0m \u001b[38;5;28mself\u001b[39m\u001b[38;5;241m.\u001b[39m_engine \u001b[38;5;241m=\u001b[39m \u001b[38;5;28;43mself\u001b[39;49m\u001b[38;5;241;43m.\u001b[39;49m\u001b[43m_make_engine\u001b[49m\u001b[43m(\u001b[49m\u001b[43mf\u001b[49m\u001b[43m,\u001b[49m\u001b[43m \u001b[49m\u001b[38;5;28;43mself\u001b[39;49m\u001b[38;5;241;43m.\u001b[39;49m\u001b[43mengine\u001b[49m\u001b[43m)\u001b[49m\n",
      "File \u001b[1;32mc:\\Users\\shouh\\AppData\\Local\\Programs\\Python\\Python312\\Lib\\site-packages\\pandas\\io\\parsers\\readers.py:1705\u001b[0m, in \u001b[0;36mTextFileReader._make_engine\u001b[1;34m(self, f, engine)\u001b[0m\n\u001b[0;32m   1703\u001b[0m     \u001b[38;5;28;01mif\u001b[39;00m \u001b[38;5;124m\"\u001b[39m\u001b[38;5;124mb\u001b[39m\u001b[38;5;124m\"\u001b[39m \u001b[38;5;129;01mnot\u001b[39;00m \u001b[38;5;129;01min\u001b[39;00m mode:\n\u001b[0;32m   1704\u001b[0m         mode \u001b[38;5;241m+\u001b[39m\u001b[38;5;241m=\u001b[39m \u001b[38;5;124m\"\u001b[39m\u001b[38;5;124mb\u001b[39m\u001b[38;5;124m\"\u001b[39m\n\u001b[1;32m-> 1705\u001b[0m \u001b[38;5;28mself\u001b[39m\u001b[38;5;241m.\u001b[39mhandles \u001b[38;5;241m=\u001b[39m \u001b[43mget_handle\u001b[49m\u001b[43m(\u001b[49m\n\u001b[0;32m   1706\u001b[0m \u001b[43m    \u001b[49m\u001b[43mf\u001b[49m\u001b[43m,\u001b[49m\n\u001b[0;32m   1707\u001b[0m \u001b[43m    \u001b[49m\u001b[43mmode\u001b[49m\u001b[43m,\u001b[49m\n\u001b[0;32m   1708\u001b[0m \u001b[43m    \u001b[49m\u001b[43mencoding\u001b[49m\u001b[38;5;241;43m=\u001b[39;49m\u001b[38;5;28;43mself\u001b[39;49m\u001b[38;5;241;43m.\u001b[39;49m\u001b[43moptions\u001b[49m\u001b[38;5;241;43m.\u001b[39;49m\u001b[43mget\u001b[49m\u001b[43m(\u001b[49m\u001b[38;5;124;43m\"\u001b[39;49m\u001b[38;5;124;43mencoding\u001b[39;49m\u001b[38;5;124;43m\"\u001b[39;49m\u001b[43m,\u001b[49m\u001b[43m \u001b[49m\u001b[38;5;28;43;01mNone\u001b[39;49;00m\u001b[43m)\u001b[49m\u001b[43m,\u001b[49m\n\u001b[0;32m   1709\u001b[0m \u001b[43m    \u001b[49m\u001b[43mcompression\u001b[49m\u001b[38;5;241;43m=\u001b[39;49m\u001b[38;5;28;43mself\u001b[39;49m\u001b[38;5;241;43m.\u001b[39;49m\u001b[43moptions\u001b[49m\u001b[38;5;241;43m.\u001b[39;49m\u001b[43mget\u001b[49m\u001b[43m(\u001b[49m\u001b[38;5;124;43m\"\u001b[39;49m\u001b[38;5;124;43mcompression\u001b[39;49m\u001b[38;5;124;43m\"\u001b[39;49m\u001b[43m,\u001b[49m\u001b[43m \u001b[49m\u001b[38;5;28;43;01mNone\u001b[39;49;00m\u001b[43m)\u001b[49m\u001b[43m,\u001b[49m\n\u001b[0;32m   1710\u001b[0m \u001b[43m    \u001b[49m\u001b[43mmemory_map\u001b[49m\u001b[38;5;241;43m=\u001b[39;49m\u001b[38;5;28;43mself\u001b[39;49m\u001b[38;5;241;43m.\u001b[39;49m\u001b[43moptions\u001b[49m\u001b[38;5;241;43m.\u001b[39;49m\u001b[43mget\u001b[49m\u001b[43m(\u001b[49m\u001b[38;5;124;43m\"\u001b[39;49m\u001b[38;5;124;43mmemory_map\u001b[39;49m\u001b[38;5;124;43m\"\u001b[39;49m\u001b[43m,\u001b[49m\u001b[43m \u001b[49m\u001b[38;5;28;43;01mFalse\u001b[39;49;00m\u001b[43m)\u001b[49m\u001b[43m,\u001b[49m\n\u001b[0;32m   1711\u001b[0m \u001b[43m    \u001b[49m\u001b[43mis_text\u001b[49m\u001b[38;5;241;43m=\u001b[39;49m\u001b[43mis_text\u001b[49m\u001b[43m,\u001b[49m\n\u001b[0;32m   1712\u001b[0m \u001b[43m    \u001b[49m\u001b[43merrors\u001b[49m\u001b[38;5;241;43m=\u001b[39;49m\u001b[38;5;28;43mself\u001b[39;49m\u001b[38;5;241;43m.\u001b[39;49m\u001b[43moptions\u001b[49m\u001b[38;5;241;43m.\u001b[39;49m\u001b[43mget\u001b[49m\u001b[43m(\u001b[49m\u001b[38;5;124;43m\"\u001b[39;49m\u001b[38;5;124;43mencoding_errors\u001b[39;49m\u001b[38;5;124;43m\"\u001b[39;49m\u001b[43m,\u001b[49m\u001b[43m \u001b[49m\u001b[38;5;124;43m\"\u001b[39;49m\u001b[38;5;124;43mstrict\u001b[39;49m\u001b[38;5;124;43m\"\u001b[39;49m\u001b[43m)\u001b[49m\u001b[43m,\u001b[49m\n\u001b[0;32m   1713\u001b[0m \u001b[43m    \u001b[49m\u001b[43mstorage_options\u001b[49m\u001b[38;5;241;43m=\u001b[39;49m\u001b[38;5;28;43mself\u001b[39;49m\u001b[38;5;241;43m.\u001b[39;49m\u001b[43moptions\u001b[49m\u001b[38;5;241;43m.\u001b[39;49m\u001b[43mget\u001b[49m\u001b[43m(\u001b[49m\u001b[38;5;124;43m\"\u001b[39;49m\u001b[38;5;124;43mstorage_options\u001b[39;49m\u001b[38;5;124;43m\"\u001b[39;49m\u001b[43m,\u001b[49m\u001b[43m \u001b[49m\u001b[38;5;28;43;01mNone\u001b[39;49;00m\u001b[43m)\u001b[49m\u001b[43m,\u001b[49m\n\u001b[0;32m   1714\u001b[0m \u001b[43m\u001b[49m\u001b[43m)\u001b[49m\n\u001b[0;32m   1715\u001b[0m \u001b[38;5;28;01massert\u001b[39;00m \u001b[38;5;28mself\u001b[39m\u001b[38;5;241m.\u001b[39mhandles \u001b[38;5;129;01mis\u001b[39;00m \u001b[38;5;129;01mnot\u001b[39;00m \u001b[38;5;28;01mNone\u001b[39;00m\n\u001b[0;32m   1716\u001b[0m f \u001b[38;5;241m=\u001b[39m \u001b[38;5;28mself\u001b[39m\u001b[38;5;241m.\u001b[39mhandles\u001b[38;5;241m.\u001b[39mhandle\n",
      "File \u001b[1;32mc:\\Users\\shouh\\AppData\\Local\\Programs\\Python\\Python312\\Lib\\site-packages\\pandas\\io\\common.py:863\u001b[0m, in \u001b[0;36mget_handle\u001b[1;34m(path_or_buf, mode, encoding, compression, memory_map, is_text, errors, storage_options)\u001b[0m\n\u001b[0;32m    858\u001b[0m \u001b[38;5;28;01melif\u001b[39;00m \u001b[38;5;28misinstance\u001b[39m(handle, \u001b[38;5;28mstr\u001b[39m):\n\u001b[0;32m    859\u001b[0m     \u001b[38;5;66;03m# Check whether the filename is to be opened in binary mode.\u001b[39;00m\n\u001b[0;32m    860\u001b[0m     \u001b[38;5;66;03m# Binary mode does not support 'encoding' and 'newline'.\u001b[39;00m\n\u001b[0;32m    861\u001b[0m     \u001b[38;5;28;01mif\u001b[39;00m ioargs\u001b[38;5;241m.\u001b[39mencoding \u001b[38;5;129;01mand\u001b[39;00m \u001b[38;5;124m\"\u001b[39m\u001b[38;5;124mb\u001b[39m\u001b[38;5;124m\"\u001b[39m \u001b[38;5;129;01mnot\u001b[39;00m \u001b[38;5;129;01min\u001b[39;00m ioargs\u001b[38;5;241m.\u001b[39mmode:\n\u001b[0;32m    862\u001b[0m         \u001b[38;5;66;03m# Encoding\u001b[39;00m\n\u001b[1;32m--> 863\u001b[0m         handle \u001b[38;5;241m=\u001b[39m \u001b[38;5;28;43mopen\u001b[39;49m\u001b[43m(\u001b[49m\n\u001b[0;32m    864\u001b[0m \u001b[43m            \u001b[49m\u001b[43mhandle\u001b[49m\u001b[43m,\u001b[49m\n\u001b[0;32m    865\u001b[0m \u001b[43m            \u001b[49m\u001b[43mioargs\u001b[49m\u001b[38;5;241;43m.\u001b[39;49m\u001b[43mmode\u001b[49m\u001b[43m,\u001b[49m\n\u001b[0;32m    866\u001b[0m \u001b[43m            \u001b[49m\u001b[43mencoding\u001b[49m\u001b[38;5;241;43m=\u001b[39;49m\u001b[43mioargs\u001b[49m\u001b[38;5;241;43m.\u001b[39;49m\u001b[43mencoding\u001b[49m\u001b[43m,\u001b[49m\n\u001b[0;32m    867\u001b[0m \u001b[43m            \u001b[49m\u001b[43merrors\u001b[49m\u001b[38;5;241;43m=\u001b[39;49m\u001b[43merrors\u001b[49m\u001b[43m,\u001b[49m\n\u001b[0;32m    868\u001b[0m \u001b[43m            \u001b[49m\u001b[43mnewline\u001b[49m\u001b[38;5;241;43m=\u001b[39;49m\u001b[38;5;124;43m\"\u001b[39;49m\u001b[38;5;124;43m\"\u001b[39;49m\u001b[43m,\u001b[49m\n\u001b[0;32m    869\u001b[0m \u001b[43m        \u001b[49m\u001b[43m)\u001b[49m\n\u001b[0;32m    870\u001b[0m     \u001b[38;5;28;01melse\u001b[39;00m:\n\u001b[0;32m    871\u001b[0m         \u001b[38;5;66;03m# Binary mode\u001b[39;00m\n\u001b[0;32m    872\u001b[0m         handle \u001b[38;5;241m=\u001b[39m \u001b[38;5;28mopen\u001b[39m(handle, ioargs\u001b[38;5;241m.\u001b[39mmode)\n",
      "\u001b[1;31mFileNotFoundError\u001b[0m: [Errno 2] No such file or directory: '../走行距離予測データ/train.tsv'"
     ]
    }
   ],
   "source": [
    "df_train = pd.read_csv('../train.tsv' , sep = '\\t')\n",
    "#カラム名を日本語に変更\n",
    "#df_train = df_train.rename(columns = {'mpg':'燃費' , 'cylinders':'シリンダー' , 'displacement':'排気量' , 'horsepower':'馬力' , 'weight':'重量' , 'acceleration':'加速度' , 'model year':'製造年代' , 'origin':'原産国' , 'car name':'車種'})\n",
    "df_train['horsepower'] = df_train['horsepower'].replace({'?':np.nan}).astype(float)\n",
    "\n",
    "df_train.isnull().sum()\n",
    "df_train.dropna()\n",
    "df_train.head()\n",
    "df_train[['weight'  , 'displacement' , 'mpg' , 'cylinders' , 'horsepower']].corr()\n",
    "sns.heatmap(df_train[['weight'  , 'displacement' , 'mpg' , 'cylinders' , 'horsepower' , 'acceleration']].corr() , cmap='coolwarm' , annot=True)\n",
    "plt.show()"
   ]
  },
  {
   "cell_type": "code",
   "execution_count": null,
   "metadata": {},
   "outputs": [],
   "source": [
    "\n",
    "df_train['horsepower'] = df_train['horsepower'].replace({'?':np.nan}).astype(float)\n",
    "\n",
    "df_train.isnull().sum()\n",
    "df_train.dropna()"
   ]
  },
  {
   "cell_type": "code",
   "execution_count": null,
   "metadata": {},
   "outputs": [],
   "source": [
    "#車種の確認\n",
    "df_train['car name'].value_counts()\n",
    "df_train.sort_values(by = 'car name')['car name'].values\n",
    "['amc' , 'audi' , 'bmw' , 'buick century' , 'chevroelt' , 'chevy' , 'datsun' , 'dodge' , 'fiat' , 'ford' , 'hi' , 'honda' , 'mazda' , 'mercedes-ben' , 'mercury' , 'oldsmobile' , 'opel' , 'peugeot' , 'plymouth' , 'pontiac' , 'renault' , 'saab' , 'subaru' , 'toyota' , 'triumph' , 'vokswagen' , 'volvo' , 'vw']\n"
   ]
  },
  {
   "cell_type": "code",
   "execution_count": null,
   "metadata": {},
   "outputs": [],
   "source": [
    "#メーカーごとの分類\n",
    "#df_train['horsepower'] = df_train['horsepower'].replace({'?':np.nan}).astype(float)\n",
    "\n",
    "#df_train.isnull().sum()\n",
    "#df_train.dropna()\n",
    "\n",
    "df_split = df_train['car name'].str.split(expand = True)#str.split('')で文字列を''で分割(入力しないと空白で分割される)\n",
    "df_train['manufacturers name'] = df_split.iloc[:, 0]\n",
    "#エンコード\n",
    "from sklearn.preprocessing import LabelEncoder\n",
    "lencoder = LabelEncoder()\n",
    "df_train['manufacturers number'] = pd.DataFrame(lencoder.fit_transform(df_train['manufacturers name'].str[:4]))\n",
    "df_train_drop = df_train.drop(['car name' , 'id' , 'cylinders' , 'manufacturers name' , 'weight' , 'horsepower' , 'acceleration'] , axis = 1)\n",
    "#メーカーごとの排気量の平均値\n",
    "#groupbyするとキーに使ったカラムはindexとなる\n",
    "df_train_drop.info()\n",
    "df_ave_per_manufacturers = df_train_drop.groupby('manufacturers number').mean()\n",
    "plt.bar(df_ave_per_manufacturers.index , df_ave_per_manufacturers['displacement'])\n",
    "plt.xlabel('manufacturers_number')\n",
    "plt.title('The mean fuel consumption for each manufacturer')\n",
    "plt.ylabel('The mean fuel consumption')\n",
    "plt.show()\n",
    "plt.bar(df_ave_per_manufacturers.index , df_ave_per_manufacturers['mpg'])\n",
    "plt.xlabel('manufacturers_number')\n",
    "plt.ylabel('The mean displacement')\n",
    "plt.title('mean displacement for each manufacturer')\n",
    "plt.show()\n",
    "#manufacturers_name = ['amc' , 'audi' , 'bmw' , 'buick century' , 'chevroelt' , 'chevy' , 'datsun' , 'dodge' , 'fiat' , 'ford' , 'hi' , 'honda' , 'mazda' , 'mercedes-ben' , 'mercury' , 'oldsmobile' , 'opel' , 'peugeot' , 'plymouth' , 'pontiac' , 'renault' , 'saab' , 'subaru' , 'toyota' , 'triumph' , 'vokswagen' , 'volvo' , 'vw']\n",
    "\n",
    "#sns.heatmapでヒートマップを作製\n",
    "#ヒートマップ上に数値を表示する場合はannot=Trueとする。\n",
    "sns.heatmap(df_ave_per_manufacturers.corr() , cmap='coolwarm' , annot=True)\n",
    "plt.show()"
   ]
  },
  {
   "cell_type": "code",
   "execution_count": null,
   "metadata": {},
   "outputs": [],
   "source": [
    "#原産国によるグルーピング\n",
    "df_origin = df_train_drop.groupby('origin').mean()\n",
    "print(df_origin)\n",
    "#排気量\n",
    "plt.bar(df_origin.index , df_origin['displacement'])\n",
    "plt.ylabel('mean displacement')\n",
    "plt.xticks([1 , 2 , 3])\n",
    "plt.xlabel('origin(1=America, 2=Europe, 3=Japan）)')\n",
    "plt.show()\n",
    "#燃費\n",
    "plt.bar(df_origin.index , df_origin['mpg'])\n",
    "plt.ylabel('mean mpg')\n",
    "plt.xticks([1 , 2 , 3])\n",
    "plt.xlabel('origin(1=America, 2=Europe, 3=Japan）)')\n",
    "plt.show()\n",
    "#相関係数のヒートマップ\n",
    "sns.heatmap(df_origin.corr() , cmap='coolwarm' , annot=True)\n",
    "plt.show()"
   ]
  },
  {
   "cell_type": "markdown",
   "metadata": {},
   "source": [
    "<p>\n",
    "<h3>生産国ごとに分けた際の各特徴量の相関についての結果・考察</h3>\n",
    "　アメリカ産車の排気量が高く、日本、ヨーロッパ産車は燃費が良い傾向にあることが分かった。排気量アメリカと日本、ヨーロッパの排気量の差が二倍以上あるのに対し、燃費の差は1.5倍ほどであった。\n",
    "<br>\n",
    "　排気量と燃費の相関がメーカーごとにグルーピングした時よりも高くなった。\n",
    "<br>　\n",
    "　メーカーと燃費の相関が0.84と高かった。\n",
    "</p>"
   ]
  },
  {
   "cell_type": "code",
   "execution_count": null,
   "metadata": {},
   "outputs": [],
   "source": [
    "#年代によるグルーピング\n",
    "#rangeは70-82\n",
    "df_year = df_train_drop.groupby('model year').mean()\n",
    "print(df_year.head())\n",
    "#排気量\n",
    "plt.bar(df_year.index , df_year['displacement'])\n",
    "plt.xticks(np.arange(70 , 83 , step =1))#メモリを任意の間隔に指定(start,stop,step)\n",
    "plt.xlabel('year')\n",
    "plt.ylabel('mean displacement')\n",
    "plt.show()\n",
    "#燃費\n",
    "plt.bar(df_year.index , df_year['mpg'])\n",
    "plt.xticks(np.arange(70 , 83 , step =1))#メモリを任意の間隔に指定(start,stop,step)\n",
    "plt.xlabel('year')\n",
    "plt.ylabel('mean mpg')\n",
    "plt.show()\n",
    "#ヒートマップ\n",
    "sns.heatmap(df_year.corr() , cmap='coolwarm' , annot=True)\n",
    "plt.show()"
   ]
  },
  {
   "cell_type": "markdown",
   "metadata": {},
   "source": [
    "<p>\n",
    "<h3>生産年代ごとに分けた際の各特徴量の相関についての結果・考察</h3>\n",
    "　年代を経るごとに排気量が小さくなリ、燃費は向上する傾向が見られた。\n",
    "<br>\n",
    "　排気量、生産国、メーカーと燃費の相関が他の特徴量でグルーピングした際よりも低かった。\n",
    "</p>"
   ]
  },
  {
   "cell_type": "markdown",
   "metadata": {},
   "source": [
    "<p>\n",
    "<h3>各特徴量によるグルーピングの考察</h3>\n",
    " 　それぞれのグルーピングにおいてキーとした特徴量と排気量、燃費においてある程度の傾向が見られた。また生産国でグルーピングしたときに燃費と排気量の相関が最も高くなり、生産年代でグルーピングしたときに最も相関係数が低くなった。<br>\n",
    " 　\n",
    "</p>"
   ]
  }
 ],
 "metadata": {
  "kernelspec": {
   "display_name": "Python 3",
   "language": "python",
   "name": "python3"
  },
  "language_info": {
   "codemirror_mode": {
    "name": "ipython",
    "version": 3
   },
   "file_extension": ".py",
   "mimetype": "text/x-python",
   "name": "python",
   "nbconvert_exporter": "python",
   "pygments_lexer": "ipython3",
   "version": "3.12.0"
  }
 },
 "nbformat": 4,
 "nbformat_minor": 2
}
