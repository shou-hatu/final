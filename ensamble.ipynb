{
 "cells": [
  {
   "cell_type": "code",
   "execution_count": 6,
   "metadata": {},
   "outputs": [],
   "source": [
    "#各ライブラリのimport\n",
    "import numpy as np\n",
    "import pandas as pd\n",
    "import matplotlib.pyplot as plt\n",
    "import seaborn as sns"
   ]
  },
  {
   "cell_type": "code",
   "execution_count": 7,
   "metadata": {},
   "outputs": [],
   "source": [
    "#各モデルの予測結果の読み込み\n",
    "rfr = pd.read_csv(\"RF_GS.csv\", header=None)\n",
    "pred_rfr = rfr.iloc[:,1]\n",
    "gbdt = pd.read_csv(\"gbdt_gs.csv\", header=None)\n",
    "pred_gbdt = gbdt.iloc[:,1]\n",
    "xgb = pd.read_csv(\"XGB_best_score_sample_submit.csv\", header=None)\n",
    "pred_xgb = xgb.iloc[:,1]\n",
    "cat = pd.read_csv(\"cat_gs.csv\", header=None)\n",
    "pred_cat = cat.iloc[:,1]"
   ]
  },
  {
   "cell_type": "code",
   "execution_count": 18,
   "metadata": {},
   "outputs": [],
   "source": [
    "#平均計算\n",
    "preds = ((pred_xgb*1) + (pred_cat*2))  / 3\n",
    "\n",
    "#ファイルの作成\n",
    "id = rfr.iloc[:,0]\n",
    "preds = pd.concat([id, preds], axis=1)\n",
    "preds.to_csv(\"ensamble_submit.csv\", index=False, header=False)"
   ]
  },
  {
   "cell_type": "code",
   "execution_count": 12,
   "metadata": {},
   "outputs": [
    {
     "data": {
      "text/html": [
       "<div>\n",
       "<style scoped>\n",
       "    .dataframe tbody tr th:only-of-type {\n",
       "        vertical-align: middle;\n",
       "    }\n",
       "\n",
       "    .dataframe tbody tr th {\n",
       "        vertical-align: top;\n",
       "    }\n",
       "\n",
       "    .dataframe thead th {\n",
       "        text-align: right;\n",
       "    }\n",
       "</style>\n",
       "<table border=\"1\" class=\"dataframe\">\n",
       "  <thead>\n",
       "    <tr style=\"text-align: right;\">\n",
       "      <th></th>\n",
       "      <th>1</th>\n",
       "      <th>1</th>\n",
       "    </tr>\n",
       "  </thead>\n",
       "  <tbody>\n",
       "    <tr>\n",
       "      <th>0</th>\n",
       "      <td>29.370718</td>\n",
       "      <td>30.559196</td>\n",
       "    </tr>\n",
       "    <tr>\n",
       "      <th>1</th>\n",
       "      <td>18.232570</td>\n",
       "      <td>17.066556</td>\n",
       "    </tr>\n",
       "    <tr>\n",
       "      <th>2</th>\n",
       "      <td>34.391660</td>\n",
       "      <td>32.530962</td>\n",
       "    </tr>\n",
       "    <tr>\n",
       "      <th>3</th>\n",
       "      <td>18.499685</td>\n",
       "      <td>18.039836</td>\n",
       "    </tr>\n",
       "    <tr>\n",
       "      <th>4</th>\n",
       "      <td>26.898632</td>\n",
       "      <td>27.333993</td>\n",
       "    </tr>\n",
       "    <tr>\n",
       "      <th>...</th>\n",
       "      <td>...</td>\n",
       "      <td>...</td>\n",
       "    </tr>\n",
       "    <tr>\n",
       "      <th>194</th>\n",
       "      <td>27.169233</td>\n",
       "      <td>23.660427</td>\n",
       "    </tr>\n",
       "    <tr>\n",
       "      <th>195</th>\n",
       "      <td>26.463865</td>\n",
       "      <td>27.961800</td>\n",
       "    </tr>\n",
       "    <tr>\n",
       "      <th>196</th>\n",
       "      <td>29.938505</td>\n",
       "      <td>28.028695</td>\n",
       "    </tr>\n",
       "    <tr>\n",
       "      <th>197</th>\n",
       "      <td>15.407891</td>\n",
       "      <td>14.539393</td>\n",
       "    </tr>\n",
       "    <tr>\n",
       "      <th>198</th>\n",
       "      <td>30.627153</td>\n",
       "      <td>29.295011</td>\n",
       "    </tr>\n",
       "  </tbody>\n",
       "</table>\n",
       "<p>199 rows × 2 columns</p>\n",
       "</div>"
      ],
      "text/plain": [
       "             1          1\n",
       "0    29.370718  30.559196\n",
       "1    18.232570  17.066556\n",
       "2    34.391660  32.530962\n",
       "3    18.499685  18.039836\n",
       "4    26.898632  27.333993\n",
       "..         ...        ...\n",
       "194  27.169233  23.660427\n",
       "195  26.463865  27.961800\n",
       "196  29.938505  28.028695\n",
       "197  15.407891  14.539393\n",
       "198  30.627153  29.295011\n",
       "\n",
       "[199 rows x 2 columns]"
      ]
     },
     "execution_count": 12,
     "metadata": {},
     "output_type": "execute_result"
    }
   ],
   "source": [
    "#スタッキング\n",
    "from sklearn.linear_model import LinearRegression\n",
    "df_stack = pd.concat([xgb.iloc[:,1] , cat.iloc[:,1]], axis=1)\n",
    "df_stack.rename('xgb', \n",
    "                'cat',\n",
    "                )\n",
    "model= LinearRegression()\n",
    "model.fit()\n",
    "id = rfr.iloc[:,0]\n",
    "preds = pd.concat([id, preds], axis=1)\n",
    "preds.to_csv(\"ensamble_submit.csv\", index=False, header=False)"
   ]
  },
  {
   "cell_type": "code",
   "execution_count": null,
   "metadata": {},
   "outputs": [],
   "source": []
  }
 ],
 "metadata": {
  "kernelspec": {
   "display_name": "Python 3",
   "language": "python",
   "name": "python3"
  },
  "language_info": {
   "codemirror_mode": {
    "name": "ipython",
    "version": 3
   },
   "file_extension": ".py",
   "mimetype": "text/x-python",
   "name": "python",
   "nbconvert_exporter": "python",
   "pygments_lexer": "ipython3",
   "version": "3.12.0"
  }
 },
 "nbformat": 4,
 "nbformat_minor": 2
}
